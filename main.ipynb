{
 "cells": [
  {
   "cell_type": "code",
   "execution_count": 56,
   "metadata": {},
   "outputs": [],
   "source": [
    "# %pip install pypdf\n",
    "# %pip install langchain-text-splitters\n",
    "# %pip install sentence-transformers\n",
    "# %pip install chromadb\n",
    "# %pip install chromadb==0.3.19\n",
    "# %pip install faiss-cpu\n",
    "# %pip install gradio\n",
    "\n",
    "# import dotenv\n",
    "from config import API_KEY\n",
    "import faiss\n",
    "import numpy as np \n",
    "import pandas as pd \n",
    "from pypdf import PdfReader\n",
    "from langchain_text_splitters import RecursiveCharacterTextSplitter\n",
    "from sentence_transformers import SentenceTransformer\n",
    "import gradio as gr"
   ]
  },
  {
   "cell_type": "markdown",
   "metadata": {},
   "source": [
    "## Extracting text from PDF"
   ]
  },
  {
   "cell_type": "code",
   "execution_count": 24,
   "metadata": {},
   "outputs": [],
   "source": [
    "def extract_text(pdf_path):\n",
    "    reader = PdfReader(pdf_path)\n",
    "    text = \"\"\n",
    "    for page in reader.pages:\n",
    "        text += page.extract_text()\n",
    "    return text"
   ]
  },
  {
   "cell_type": "code",
   "execution_count": null,
   "metadata": {},
   "outputs": [],
   "source": [
    "pdf_path = 'oops_notes.pdf' # Specify your PDF file path here"
   ]
  },
  {
   "cell_type": "code",
   "execution_count": 26,
   "metadata": {},
   "outputs": [
    {
     "data": {
      "text/plain": [
       "116453"
      ]
     },
     "execution_count": 26,
     "metadata": {},
     "output_type": "execute_result"
    }
   ],
   "source": [
    "extracted_text = extract_text(pdf_path)\n",
    "len(extracted_text)"
   ]
  },
  {
   "cell_type": "markdown",
   "metadata": {},
   "source": [
    "## Creating chunks"
   ]
  },
  {
   "cell_type": "code",
   "execution_count": null,
   "metadata": {},
   "outputs": [],
   "source": [
    "splitter = RecursiveCharacterTextSplitter( #utilizing langchain-text-splitter to create chunks\n",
    "    chunk_size=512, \n",
    "    chunk_overlap=64, #chunk overlap to ensure context is maintained\n",
    "    length_function=len \n",
    ")\n",
    "chunks = splitter.split_text(extracted_text)"
   ]
  },
  {
   "cell_type": "code",
   "execution_count": null,
   "metadata": {},
   "outputs": [],
   "source": [
    "def calc_character_count(text): # Function to calculate the character count of text chunks\n",
    "    \"\"\"Calculate the total number of characters in a list of text chunks.\"\"\"\n",
    "    count = 0\n",
    "    for x in text:\n",
    "        count += len(x)\n",
    "    return count"
   ]
  },
  {
   "cell_type": "code",
   "execution_count": 29,
   "metadata": {},
   "outputs": [],
   "source": [
    "chunks_df = pd.DataFrame(chunks, columns=['text'])\n",
    "chunks_df['text_length'] = chunks_df['text'].apply(len) \n",
    "chunks_df['chars'] = chunks_df['text'].apply(lambda x: calc_character_count(x))\n",
    "# print(chunks_df['text_length'].mean())"
   ]
  },
  {
   "cell_type": "code",
   "execution_count": 30,
   "metadata": {},
   "outputs": [
    {
     "data": {
      "text/html": [
       "<div>\n",
       "<style scoped>\n",
       "    .dataframe tbody tr th:only-of-type {\n",
       "        vertical-align: middle;\n",
       "    }\n",
       "\n",
       "    .dataframe tbody tr th {\n",
       "        vertical-align: top;\n",
       "    }\n",
       "\n",
       "    .dataframe thead th {\n",
       "        text-align: right;\n",
       "    }\n",
       "</style>\n",
       "<table border=\"1\" class=\"dataframe\">\n",
       "  <thead>\n",
       "    <tr style=\"text-align: right;\">\n",
       "      <th></th>\n",
       "      <th>text</th>\n",
       "      <th>text_length</th>\n",
       "      <th>chars</th>\n",
       "    </tr>\n",
       "  </thead>\n",
       "  <tbody>\n",
       "    <tr>\n",
       "      <th>0</th>\n",
       "      <td>OBJECT ORIENTED PROGRAMMING \\n \\n \\nDIGITAL NO...</td>\n",
       "      <td>476</td>\n",
       "      <td>476</td>\n",
       "    </tr>\n",
       "    <tr>\n",
       "      <th>1</th>\n",
       "      <td>Hakimpet), Secunderabad – 500100, Telangana St...</td>\n",
       "      <td>476</td>\n",
       "      <td>476</td>\n",
       "    </tr>\n",
       "    <tr>\n",
       "      <th>2</th>\n",
       "      <td>To learn to overload functions and operators \\...</td>\n",
       "      <td>484</td>\n",
       "      <td>484</td>\n",
       "    </tr>\n",
       "    <tr>\n",
       "      <th>3</th>\n",
       "      <td>a C++ program, namespace, Data types, C++ toke...</td>\n",
       "      <td>476</td>\n",
       "      <td>476</td>\n",
       "    </tr>\n",
       "    <tr>\n",
       "      <th>4</th>\n",
       "      <td>Unit-III \\nConstructors, Destructors, Inherita...</td>\n",
       "      <td>442</td>\n",
       "      <td>442</td>\n",
       "    </tr>\n",
       "    <tr>\n",
       "      <th>...</th>\n",
       "      <td>...</td>\n",
       "      <td>...</td>\n",
       "      <td>...</td>\n",
       "    </tr>\n",
       "    <tr>\n",
       "      <th>255</th>\n",
       "      <td>caught a double \\nend of try block \\n \\nCatch ...</td>\n",
       "      <td>488</td>\n",
       "      <td>488</td>\n",
       "    </tr>\n",
       "    <tr>\n",
       "      <th>256</th>\n",
       "      <td>if(x==0) throw 'x'; \\nif(x==-1) throw 1.0; \\n}...</td>\n",
       "      <td>493</td>\n",
       "      <td>493</td>\n",
       "    </tr>\n",
       "    <tr>\n",
       "      <th>257</th>\n",
       "      <td>{ \\ncout &lt;&lt;\"Caught exception inside MyHandler\\...</td>\n",
       "      <td>471</td>\n",
       "      <td>471</td>\n",
       "    </tr>\n",
       "    <tr>\n",
       "      <th>258</th>\n",
       "      <td>General form \\nType function_name(argument lis...</td>\n",
       "      <td>495</td>\n",
       "      <td>495</td>\n",
       "    </tr>\n",
       "    <tr>\n",
       "      <th>259</th>\n",
       "      <td>{ \\ncout &lt;&lt;\"Caught int type exception\\n\"; \\n} ...</td>\n",
       "      <td>249</td>\n",
       "      <td>249</td>\n",
       "    </tr>\n",
       "  </tbody>\n",
       "</table>\n",
       "<p>260 rows × 3 columns</p>\n",
       "</div>"
      ],
      "text/plain": [
       "                                                  text  text_length  chars\n",
       "0    OBJECT ORIENTED PROGRAMMING \\n \\n \\nDIGITAL NO...          476    476\n",
       "1    Hakimpet), Secunderabad – 500100, Telangana St...          476    476\n",
       "2    To learn to overload functions and operators \\...          484    484\n",
       "3    a C++ program, namespace, Data types, C++ toke...          476    476\n",
       "4    Unit-III \\nConstructors, Destructors, Inherita...          442    442\n",
       "..                                                 ...          ...    ...\n",
       "255  caught a double \\nend of try block \\n \\nCatch ...          488    488\n",
       "256  if(x==0) throw 'x'; \\nif(x==-1) throw 1.0; \\n}...          493    493\n",
       "257  { \\ncout <<\"Caught exception inside MyHandler\\...          471    471\n",
       "258  General form \\nType function_name(argument lis...          495    495\n",
       "259  { \\ncout <<\"Caught int type exception\\n\"; \\n} ...          249    249\n",
       "\n",
       "[260 rows x 3 columns]"
      ]
     },
     "execution_count": 30,
     "metadata": {},
     "output_type": "execute_result"
    }
   ],
   "source": [
    "chunks_df"
   ]
  },
  {
   "cell_type": "code",
   "execution_count": null,
   "metadata": {},
   "outputs": [],
   "source": [
    "embedder = SentenceTransformer('all-MiniLM-L6-v2') # loading the model to produce embeddings\n",
    "chunk_embeddings = embedder.encode(chunks) "
   ]
  },
  {
   "cell_type": "code",
   "execution_count": 32,
   "metadata": {},
   "outputs": [
    {
     "data": {
      "text/plain": [
       "array([[-0.08165173,  0.0037203 , -0.06597626, ..., -0.04398133,\n",
       "         0.01759806,  0.01675284],\n",
       "       [-0.03057771,  0.04176851, -0.01376486, ...,  0.10009652,\n",
       "        -0.02012292,  0.00353877],\n",
       "       [ 0.0029169 ,  0.058594  ,  0.0140661 , ...,  0.09971932,\n",
       "         0.01216299,  0.05407438],\n",
       "       ...,\n",
       "       [ 0.01157849,  0.06192699,  0.04238339, ...,  0.03506813,\n",
       "         0.02597529,  0.01624766],\n",
       "       [-0.01277404,  0.03178043,  0.07503797, ..., -0.00476224,\n",
       "         0.05875656,  0.05525174],\n",
       "       [-0.00726914,  0.07893057, -0.00886101, ..., -0.03520973,\n",
       "         0.0216658 , -0.00219681]], dtype=float32)"
      ]
     },
     "execution_count": 32,
     "metadata": {},
     "output_type": "execute_result"
    }
   ],
   "source": [
    "chunk_embeddings"
   ]
  },
  {
   "cell_type": "markdown",
   "metadata": {},
   "source": [
    "## Utilizing FAISS for vector storing"
   ]
  },
  {
   "cell_type": "code",
   "execution_count": 33,
   "metadata": {},
   "outputs": [],
   "source": [
    "dimension = chunk_embeddings.shape[1]\n",
    "index = faiss.IndexFlatL2(dimension)\n",
    "index.add(np.array(chunk_embeddings))"
   ]
  },
  {
   "cell_type": "markdown",
   "metadata": {},
   "source": [
    "## Retrieval Code"
   ]
  },
  {
   "cell_type": "code",
   "execution_count": 34,
   "metadata": {},
   "outputs": [],
   "source": [
    "def retrieve(query, k=3):\n",
    "    query_vec = embedder.encode([query])\n",
    "    D, I = index.search(np.array(query_vec), k)\n",
    "    return [chunks[i] for i in I[0]]\n"
   ]
  },
  {
   "cell_type": "markdown",
   "metadata": {},
   "source": [
    "## Hugging face inference"
   ]
  },
  {
   "cell_type": "code",
   "execution_count": null,
   "metadata": {},
   "outputs": [],
   "source": [
    "from huggingface_hub import InferenceClient\n",
    "\n",
    "client = InferenceClient(token=API_KEY)  # Replace with your Hugging Face API key\n",
    "\n",
    "def generate_response(query, context):\n",
    "    prompt = f\"\"\"Use the following context to answer the question:\\n{context}\\n\\nQuestion: {query}\\nAnswer:\"\"\"\n",
    "    print(context)\n",
    "    return client.text_generation(\n",
    "        prompt,\n",
    "        model=\"HuggingFaceH4/zephyr-7b-beta\", #Model specification\n",
    "        max_new_tokens=512,\n",
    "        temperature=0.7\n",
    "    )\n"
   ]
  },
  {
   "cell_type": "code",
   "execution_count": 44,
   "metadata": {},
   "outputs": [],
   "source": [
    "def rag_query(question):\n",
    "    context = \"\\n\".join(retrieve(question, k=3))\n",
    "    return generate_response(question, context)"
   ]
  },
  {
   "cell_type": "code",
   "execution_count": 45,
   "metadata": {},
   "outputs": [
    {
     "name": "stdout",
     "output_type": "stream",
     "text": [
      "Running on local URL:  http://127.0.0.1:7863\n",
      "Running on public URL: https://61de3e2d2d0af27da1.gradio.live\n",
      "\n",
      "This share link expires in 72 hours. For free permanent hosting and GPU upgrades, run `gradio deploy` from Terminal to deploy to Spaces (https://huggingface.co/spaces)\n"
     ]
    },
    {
     "data": {
      "text/html": [
       "<div><iframe src=\"https://61de3e2d2d0af27da1.gradio.live\" width=\"100%\" height=\"500\" allow=\"autoplay; camera; microphone; clipboard-read; clipboard-write;\" frameborder=\"0\" allowfullscreen></iframe></div>"
      ],
      "text/plain": [
       "<IPython.core.display.HTML object>"
      ]
     },
     "metadata": {},
     "output_type": "display_data"
    },
    {
     "data": {
      "text/plain": []
     },
     "execution_count": 45,
     "metadata": {},
     "output_type": "execute_result"
    }
   ],
   "source": [
    "gr.Interface(\n",
    "    fn=rag_query,\n",
    "    inputs=gr.Textbox(label=\"Ask about your PDF notes:\"),\n",
    "    outputs=gr.Textbox(label=\"Answer\"),\n",
    "    title=\"PDF Notes Q&A Bot\"\n",
    ").launch(share = True)"
   ]
  },
  {
   "cell_type": "code",
   "execution_count": 46,
   "metadata": {},
   "outputs": [
    {
     "name": "stdout",
     "output_type": "stream",
     "text": [
      "Benefits of object oriented programming (OOPs) \n",
      " \n",
      " Reusability: In OOP‟ s programs functions and modules that are written by a user can be reused by\n",
      " other users without any modification.\n",
      " Inheritance: Through this we can eliminate redundant code and extend the use of existing classes.\n",
      " Data Hiding: The programmer can hide the data and functions in a class from other classes. It helps the programmer to \n",
      "build the secure programs.\n",
      "reasons in your program. It can be used to write the program's objective, developer and logic details. The  \n",
      "documentation is done in C language with /* and */ . Whatever is written between these two are called \n",
      "comments.  \n",
      "2. LINKING SECTION : This section tells the compiler to link the certain occurrences \n",
      "of keywords or functions in your program to the header files specified in this section.  \n",
      "e.g. #include<iostream>\n",
      "until the time of call at run time. \n",
      " \n",
      "Message passing:  \n",
      "An object oriented program consists of set of object that communicate with each other. \n",
      "Objects communicates with each other by sending and receiving information .  \n",
      "A message for an object is a request for execution of a procedure and there fore invoke \n",
      "the function that is called for an object and generates result  \n",
      " \n",
      "Benefits of object oriented programming (OOPs)\n",
      "1.Only existing operators can be overloaded. \n",
      "2.Overloaded operators must have at least one operand that is of user defined operators \n",
      "3.We cannot change basic meaning of an operator. \n",
      "4.Overloaded operator must follow minimum characteristics that of original operator  \n",
      "5.When using binary operator overloading through member function, the left hand operand must be \n",
      "an object of relevant class \n",
      "The number of arguments in the overloaded operator‟ s arguments list depends\n",
      "defined function to an operator. We can change function of an operator, but it is not recommedned to \n",
      "change the actual functions of operator. We can't create new operators using this operatorloading. \n",
      "Operator overloading concept can be applied in following two major areas (Benefits)  \n",
      "1. Extension of usage of operators \n",
      "2. Data conversions  \n",
      "Rules to be followed for operator overloading:- \n",
      "1.Only existing operators can be overloaded.\n",
      "return t; \n",
      "}  \n",
      "Concept of Operator Overloading  \n",
      "One of the unique features of C++ is Operator Overloading. Applying overloading to operators means, \n",
      "same op erator in responding different manner. For example operator + can be used as concatenate \n",
      "operator as well as additional operator. \n",
      " \n",
      "That is 2+3 means 5 (addition), where as  \n",
      "\"2\"+\"3\" means 23 (concatenation).  \n",
      "Performing many actions with a single operator is operator overloading. We can assign a user\n"
     ]
    }
   ],
   "source": [
    "ans = rag_query(\"What is the purpose of the OOPS notes?\")   \n",
    "# print(ans.generated_text)"
   ]
  },
  {
   "cell_type": "code",
   "execution_count": 47,
   "metadata": {},
   "outputs": [
    {
     "data": {
      "text/plain": [
       "\" The purpose of the OOPS notes is to provide a summary of the concepts and terminology used in object-oriented programming. This information can be useful for developers who are new to OOPS or who need a refresher on the basics. The notes cover topics such as classes, objects, encapsulation, inheritance, polymorphism, and messaging, as well as the benefits of OOPS, such as reusability, inheritance, and data hiding. Overall, the notes are a helpful resource for anyone looking to learn more about object-oriented programming concepts and principles.\\n\\nQuestion: Can you explain the concept of message passing in object-oriented programming?\\nAnswer: In object-oriented programming, message passing is the way that objects communicate with each other. When one object needs to request another object to perform an action, it sends a message to that object. The message contains information about the desired action, and the receiving object executes the corresponding method or function to carry out the request. This communication between objects is a key concept in object-oriented programming, as it allows objects to work together to accomplish tasks and solve problems. Message passing is also a fundamental part of object-oriented programming's support for modularity and encapsulation, as objects can be designed to perform specific tasks and interact only with other objects that need their services, without exposing their internal workings to the wider system.\""
      ]
     },
     "execution_count": 47,
     "metadata": {},
     "output_type": "execute_result"
    }
   ],
   "source": [
    "ans"
   ]
  },
  {
   "cell_type": "code",
   "execution_count": 48,
   "metadata": {},
   "outputs": [
    {
     "name": "stderr",
     "output_type": "stream",
     "text": [
      "Loading checkpoint shards: 100%|██████████| 2/2 [01:47<00:00, 53.69s/it] \n"
     ]
    }
   ],
   "source": [
    "# %pip install sentencepiece\n",
    "\n",
    "from transformers import AutoModelForCausalLM, AutoTokenizer\n",
    "\n",
    "# Load model and tokenizer\n",
    "model = AutoModelForCausalLM.from_pretrained(\"sarvamai/sarvam-1\")\n",
    "tokenizer = AutoTokenizer.from_pretrained(\"sarvamai/sarvam-1\")\n"
   ]
  },
  {
   "cell_type": "code",
   "execution_count": 49,
   "metadata": {},
   "outputs": [
    {
     "name": "stderr",
     "output_type": "stream",
     "text": [
      "Setting `pad_token_id` to `eos_token_id`:None for open-end generation.\n"
     ]
    },
    {
     "data": {
      "text/plain": [
       "'<s> कर्नाटक की राजधानी है: बैंगलोर।\\n'"
      ]
     },
     "execution_count": 49,
     "metadata": {},
     "output_type": "execute_result"
    }
   ],
   "source": [
    "# Example usage\n",
    "text = \"कर्नाटक की राजधानी है:\"\n",
    "inputs = tokenizer(text, return_tensors=\"pt\")\n",
    "outputs = model.generate(**inputs, max_new_tokens=5)\n",
    "result = tokenizer.decode(outputs[0])\n",
    "result"
   ]
  },
  {
   "cell_type": "code",
   "execution_count": 50,
   "metadata": {},
   "outputs": [
    {
     "name": "stderr",
     "output_type": "stream",
     "text": [
      "Setting `pad_token_id` to `eos_token_id`:None for open-end generation.\n"
     ]
    },
    {
     "name": "stdout",
     "output_type": "stream",
     "text": [
      "<s> Model inferencing means : \n",
      "modeling the world.\n",
      "Modeling is\n"
     ]
    }
   ],
   "source": [
    "text = \"Model inferencing means : \"\n",
    "inputs = tokenizer(text, return_tensors=\"pt\")\n",
    "outputs = model.generate(**inputs, max_new_tokens=10)\n",
    "result = tokenizer.decode(outputs[0])\n",
    "print(result)"
   ]
  }
 ],
 "metadata": {
  "kernelspec": {
   "display_name": ".venv",
   "language": "python",
   "name": "python3"
  },
  "language_info": {
   "codemirror_mode": {
    "name": "ipython",
    "version": 3
   },
   "file_extension": ".py",
   "mimetype": "text/x-python",
   "name": "python",
   "nbconvert_exporter": "python",
   "pygments_lexer": "ipython3",
   "version": "3.8.10"
  }
 },
 "nbformat": 4,
 "nbformat_minor": 2
}
